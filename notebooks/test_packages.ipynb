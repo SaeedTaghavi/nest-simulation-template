{
 "cells": [
  {
   "cell_type": "code",
   "execution_count": 1,
   "id": "03f3a852-0716-41bf-a343-994cedd5b4c9",
   "metadata": {},
   "outputs": [
    {
     "name": "stdout",
     "output_type": "stream",
     "text": [
      "/opt/data/notebooks\n"
     ]
    }
   ],
   "source": [
    "!pwd"
   ]
  },
  {
   "cell_type": "code",
   "execution_count": 3,
   "id": "ea4d892d-de97-4f82-83fe-422767a9519f",
   "metadata": {},
   "outputs": [
    {
     "name": "stdout",
     "output_type": "stream",
     "text": [
      "black: 25.1.0\n",
      "autopep8: 2.3.2\n",
      "pandas: 1.3.5\n",
      "numpy: 1.26.0\n",
      "matplotlib: 3.10.1\n",
      "seaborn: 0.13.2\n"
     ]
    }
   ],
   "source": [
    "# Check if all required packages from requirements.txt are installed\n",
    "import importlib.metadata\n",
    "def print_versions_from_requirements(file_path):\n",
    "    \"\"\"\n",
    "    Reads a requirements.txt file, and prints the version of each library if availabe.\n",
    "    \"\"\"\n",
    "    try:\n",
    "        with open(file_path, 'r') as f:\n",
    "            for line in f:\n",
    "                # Clean up the line to get the package name\n",
    "                package_name = line.split('==')[0].split('<')[0].split('>')[0].strip()\n",
    "                if package_name and not package_name.startswith('#'):\n",
    "                    try:\n",
    "                        # Use importlib.metadata to get the version\n",
    "                        version = importlib.metadata.version(package_name)\n",
    "                        print(f\"{package_name}: {version}\")\n",
    "                    except importlib.metadata.PackageNotFoundError:\n",
    "                        print(f\"{package_name}: Not Found\")\n",
    "                    except Exception as e:\n",
    "                        print(f\"Could not check version for {package_name}: {e}\")\n",
    "    except FileNotFoundError:\n",
    "        print(f\"Error: The file '{file_path}' was not found.\")\n",
    "    except Exception as e:\n",
    "        print(f\"An error occurred: {e}\")\n",
    "\n",
    "if __name__ == \"__main__\":\n",
    "    requirements_file = \"/opt/data/requirements.txt\"\n",
    "    print_versions_from_requirements(requirements_file)"
   ]
  },
  {
   "cell_type": "code",
   "execution_count": 5,
   "id": "acad67e8-f0df-4ff1-a6ec-05ed7f0e5d00",
   "metadata": {},
   "outputs": [],
   "source": [
    "import scripts.helper as helper"
   ]
  },
  {
   "cell_type": "code",
   "execution_count": 4,
   "id": "f0f9beba-cfd1-46c0-9029-719a1f655e76",
   "metadata": {},
   "outputs": [
    {
     "name": "stdout",
     "output_type": "stream",
     "text": [
      "this is from test_helper()\n"
     ]
    },
    {
     "data": {
      "text/plain": [
       "True"
      ]
     },
     "execution_count": 4,
     "metadata": {},
     "output_type": "execute_result"
    }
   ],
   "source": [
    "helper.test_helper()"
   ]
  },
  {
   "cell_type": "code",
   "execution_count": null,
   "id": "87de6378-30c9-4eca-8bed-ff53d8d88f71",
   "metadata": {},
   "outputs": [],
   "source": [
    "import "
   ]
  }
 ],
 "metadata": {
  "kernelspec": {
   "display_name": "Python 3 (ipykernel)",
   "language": "python",
   "name": "python3"
  },
  "language_info": {
   "codemirror_mode": {
    "name": "ipython",
    "version": 3
   },
   "file_extension": ".py",
   "mimetype": "text/x-python",
   "name": "python",
   "nbconvert_exporter": "python",
   "pygments_lexer": "ipython3",
   "version": "3.10.12"
  }
 },
 "nbformat": 4,
 "nbformat_minor": 5
}
